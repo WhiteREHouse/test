{
  "nbformat": 4,
  "nbformat_minor": 0,
  "metadata": {
    "colab": {
      "name": "test.ipynb",
      "provenance": [],
      "collapsed_sections": []
    },
    "kernelspec": {
      "name": "python3",
      "display_name": "Python 3"
    }
  },
  "cells": [
    {
      "cell_type": "code",
      "metadata": {
        "id": "iqZoZwCDZMJj"
      },
      "source": [
        "from fastai.vision.all import *\n",
        "from fastai.vision.widgets import *"
      ],
      "execution_count": null,
      "outputs": []
    },
    {
      "cell_type": "markdown",
      "metadata": {
        "id": "k-MTQLg-GB1a"
      },
      "source": [
        "**FURR-O-METER**\n",
        "\n",
        "Now you can always be ready to purge vile furries on sight with our brand new Furr-O-Meter™!\n",
        "\n",
        "Just upload any image of any creature to check how furry it is."
      ]
    },
    {
      "cell_type": "code",
      "metadata": {
        "id": "B2J6iTXFZg2e"
      },
      "source": [
        "path = Path()\n",
        "learn = load_learner(path/'export.pkl', cpu=True)\n",
        "btn_upload = widgets.FileUpload()\n",
        "out_pl = widgets.Output()\n",
        "lbl_pred = widgets.Label()\n",
        "lbl2_pred = widgets.Label()\n",
        "btn_run = widgets.Button(description='Classify')"
      ],
      "execution_count": null,
      "outputs": []
    },
    {
      "cell_type": "code",
      "metadata": {
        "id": "darNc6z4ZwJh"
      },
      "source": [
        "def on_click_classify(change):\n",
        "  img = PILImage.create(btn_upload.data[-1])\n",
        "  out_pl.clear_output()\n",
        "  with out_pl: display(img.to_thumb(224, 224))\n",
        "  pred, pred_idx, probs = learn.predict(img)\n",
        "  lbl_pred.value = f'It is {probs[0]*100:.02f}% furry'\n",
        "  if probs[0]*100 < 20:\n",
        "    lbl_pred2.value = 'Verdict: definitely not a furry'\n",
        "  elif probs[0]*100 < 40:\n",
        "    lbl_pred2.value = 'Verdict: most likely not a furry'\n",
        "  elif probs[0]*100 < 60:\n",
        "    lbl_pred2.value = 'Verdict: this could be a furry'\n",
        "  elif probs[0]*100 < 80:\n",
        "    lbl_pred2.value = 'Verdict: be ready! This is probably a furry'\n",
        "  else:\n",
        "    lbl_pred2.value = 'FURRY DETECTED! BEGIN THE ONSLAUGHT! DESTROY. THEM. ALL.'\n",
        "\n",
        "btn_run.on_click(on_click_classify)"
      ],
      "execution_count": null,
      "outputs": []
    },
    {
      "cell_type": "code",
      "metadata": {
        "id": "dKIMPQJ2Zyy_"
      },
      "source": [
        "VBox([widgets.Label('Upload an object'),\n",
        "      btn_upload, btn_run, out_pl, lbl_pred, lbl2_pred])"
      ],
      "execution_count": null,
      "outputs": []
    },
    {
      "cell_type": "markdown",
      "metadata": {
        "id": "Hw5UHkjaHX3E"
      },
      "source": [
        "**Don't forget your flamethrower, noble crusader!**"
      ]
    }
  ]
}